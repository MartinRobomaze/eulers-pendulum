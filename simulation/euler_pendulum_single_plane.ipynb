{
 "cells": [
  {
   "cell_type": "code",
   "execution_count": 1,
   "metadata": {
    "ExecuteTime": {
     "end_time": "2023-05-24T20:18:29.476687763Z",
     "start_time": "2023-05-24T20:18:29.467664724Z"
    }
   },
   "outputs": [],
   "source": [
    "import numpy as np\n",
    "from scipy.signal import find_peaks, savgol_filter\n",
    "from scipy.integrate import quad, solve_ivp\n",
    "import matplotlib.pyplot as plt\n",
    "import pickle\n",
    "from collections import defaultdict"
   ]
  },
  {
   "cell_type": "code",
   "execution_count": 2,
   "metadata": {
    "ExecuteTime": {
     "end_time": "2023-05-23T11:00:29.179907047Z",
     "start_time": "2023-05-23T11:00:29.178000742Z"
    }
   },
   "outputs": [],
   "source": [
    "def nested_dict():\n",
    "    return defaultdict(nested_dict)"
   ]
  },
  {
   "cell_type": "code",
   "execution_count": 3,
   "metadata": {
    "ExecuteTime": {
     "end_time": "2023-05-25T21:43:14.214812357Z",
     "start_time": "2023-05-25T21:43:14.169923967Z"
    }
   },
   "outputs": [],
   "source": [
    "SMALL_SIZE = 22\n",
    "MEDIUM_SIZE = 24\n",
    "BIGGER_SIZE = 24\n",
    "\n",
    "plt.rc('font', size=BIGGER_SIZE)         # controls default text sizes\n",
    "plt.rc('axes', titlesize=SMALL_SIZE)     # fontsize of the axes title\n",
    "plt.rc('axes', labelsize=MEDIUM_SIZE)    # fontsize of the x and y labels\n",
    "plt.rc('xtick', labelsize=SMALL_SIZE)    # fontsize of the tick labels\n",
    "plt.rc('ytick', labelsize=SMALL_SIZE)    # fontsize of the tick labels\n",
    "plt.rc('legend', fontsize=SMALL_SIZE)    # legend fontsize\n",
    "plt.rc('axes', titlesize=BIGGER_SIZE)    # fontsize of the figure title\n",
    "\n",
    "plt.rcParams[\"figure.figsize\"] = (8, 6)\n",
    "plt.rcParams['figure.dpi'] = 200\n",
    "plt.rcParams['text.usetex'] = True"
   ]
  },
  {
   "cell_type": "code",
   "execution_count": 4,
   "metadata": {
    "ExecuteTime": {
     "end_time": "2023-05-24T19:22:31.262950748Z",
     "start_time": "2023-05-24T19:22:31.260654902Z"
    }
   },
   "outputs": [],
   "source": [
    "mu_1 = -0.8 # Magnetic moment of da big magnet\n",
    "M_2 = 631000 / 2 # Magnetization of da small magnet\n",
    "M_2_err = 55000 # Small magnet magnetization error\n",
    "g = 9.807 # Gravitational acceleration\n",
    "m = 64.78e-3 # Magnet weight\n",
    "L = 0.1 # Magnet length\n",
    "D = 0.01 # Magnet diameter\n",
    "h = 16e-3 # Distance between magnets"
   ]
  },
  {
   "cell_type": "code",
   "execution_count": 5,
   "metadata": {
    "ExecuteTime": {
     "end_time": "2023-05-23T21:50:57.425565057Z",
     "start_time": "2023-05-23T21:50:57.417867946Z"
    }
   },
   "outputs": [],
   "source": [
    "def force_two_magnets(r, alpha, beta, m_1, m_2):\n",
    "    force_magnitude = -3e-7 * (m_1 * m_2) * r**-4\n",
    "    force_radial = force_magnitude * (2 * np.cos(alpha) * np.cos(alpha - beta) - np.sin(alpha) * np.sin(alpha - beta))\n",
    "    force_angular = force_magnitude * np.sin(2 * alpha - beta)\n",
    "\n",
    "    return force_radial, force_angular\n",
    "\n",
    "def infinitesimal_magn_moment(d):\n",
    "    return 2 * M_2 * L * np.sqrt(D**2 / 4 - (d - D/2)**2)\n",
    "\n",
    "def dipole_position(d, theta):\n",
    "    return [D/2 - d*np.cos(theta), -d*np.sin(theta)]\n",
    "\n",
    "def magnet_torque(d, theta):\n",
    "    x_dipole, y_dipole = dipole_position(d, theta)\n",
    "    dipole_dist = np.hypot(x_dipole, y_dipole-h)\n",
    "    dipole_angle = np.arctan2(x_dipole, -(y_dipole - h))\n",
    "    F_r, F_theta = force_two_magnets(dipole_dist, dipole_angle, theta, mu_1, infinitesimal_magn_moment(d))\n",
    "    torque = (F_r * np.cos(dipole_angle) - F_theta * np.sin(dipole_angle)) * d * np.cos(theta)\n",
    "\n",
    "    return torque"
   ]
  },
  {
   "cell_type": "code",
   "execution_count": 6,
   "metadata": {
    "ExecuteTime": {
     "end_time": "2023-05-23T11:00:32.736173441Z",
     "start_time": "2023-05-23T11:00:32.347174932Z"
    }
   },
   "outputs": [],
   "source": [
    "angles = np.linspace(-np.pi/2, np.pi/2, 100)\n",
    "\n",
    "torques = np.zeros(100)\n",
    "\n",
    "for i, theta in enumerate(angles):\n",
    "    torques[i] = quad(lambda x: magnet_torque(x, np.abs(theta)), 0, D)[0] * np.sign(theta)"
   ]
  },
  {
   "cell_type": "code",
   "execution_count": 7,
   "metadata": {
    "ExecuteTime": {
     "end_time": "2023-05-24T13:24:38.929172917Z",
     "start_time": "2023-05-24T13:24:38.885681381Z"
    }
   },
   "outputs": [],
   "source": [
    "prev_theta = 0\n",
    "restitution = 0.9\n",
    "\n",
    "def theta_derivatives(t, x):\n",
    "    global prev_theta\n",
    "    omega = x[1]\n",
    "    theta = x[0]\n",
    "\n",
    "    damping = 0\n",
    "    if np.sign(theta) != np.sign(prev_theta):\n",
    "        damping = -0.05 * omega\n",
    "\n",
    "    prev_theta = theta\n",
    "    magnet_t = quad(lambda x: magnet_torque(x, abs(theta)), 0, D)[0]\n",
    "    # magnet_t = 0\n",
    "    angular_accel = damping + (np.sign(theta * (np.abs(theta) - np.arctan2(D, L))) * (-m * g * (np.hypot(D, L) / 2) * np.sin(np.abs(theta) + np.arctan2(D, L))) - magnet_t * np.sign(theta)) / (m * L**2 / 12 + m * D**2 / 4 + m * (L**2 + D**2) / 4)\n",
    "\n",
    "    return [omega, angular_accel]"
   ]
  },
  {
   "cell_type": "code",
   "execution_count": 8,
   "metadata": {
    "ExecuteTime": {
     "end_time": "2023-05-24T13:24:58.993215532Z",
     "start_time": "2023-05-24T13:24:40.137341106Z"
    }
   },
   "outputs": [
    {
     "ename": "KeyboardInterrupt",
     "evalue": "",
     "output_type": "error",
     "traceback": [
      "\u001b[0;31m---------------------------------------------------------------------------\u001b[0m",
      "\u001b[0;31mKeyboardInterrupt\u001b[0m                         Traceback (most recent call last)",
      "Input \u001b[0;32mIn [8]\u001b[0m, in \u001b[0;36m<cell line: 5>\u001b[0;34m()\u001b[0m\n\u001b[1;32m      1\u001b[0m time \u001b[38;5;241m=\u001b[39m np\u001b[38;5;241m.\u001b[39mlinspace(\u001b[38;5;241m0\u001b[39m, \u001b[38;5;241m2\u001b[39m, \u001b[38;5;241m10000\u001b[39m)\n\u001b[1;32m      3\u001b[0m theta_0 \u001b[38;5;241m=\u001b[39m np\u001b[38;5;241m.\u001b[39mradians(\u001b[38;5;241m50\u001b[39m)\n\u001b[0;32m----> 5\u001b[0m sol \u001b[38;5;241m=\u001b[39m \u001b[43msolve_ivp\u001b[49m\u001b[43m(\u001b[49m\u001b[43mtheta_derivatives\u001b[49m\u001b[43m,\u001b[49m\u001b[43m \u001b[49m\u001b[43m[\u001b[49m\u001b[43mtime\u001b[49m\u001b[43m[\u001b[49m\u001b[38;5;241;43m0\u001b[39;49m\u001b[43m]\u001b[49m\u001b[43m,\u001b[49m\u001b[43m \u001b[49m\u001b[43mtime\u001b[49m\u001b[43m[\u001b[49m\u001b[38;5;241;43m-\u001b[39;49m\u001b[38;5;241;43m1\u001b[39;49m\u001b[43m]\u001b[49m\u001b[43m]\u001b[49m\u001b[43m,\u001b[49m\u001b[43m \u001b[49m\u001b[43my0\u001b[49m\u001b[38;5;241;43m=\u001b[39;49m\u001b[43m[\u001b[49m\u001b[43mtheta_0\u001b[49m\u001b[43m,\u001b[49m\u001b[43m \u001b[49m\u001b[38;5;241;43m0\u001b[39;49m\u001b[43m]\u001b[49m\u001b[43m,\u001b[49m\u001b[43m \u001b[49m\u001b[43mt_eval\u001b[49m\u001b[38;5;241;43m=\u001b[39;49m\u001b[43mtime\u001b[49m\u001b[43m,\u001b[49m\u001b[43m \u001b[49m\u001b[43mmethod\u001b[49m\u001b[38;5;241;43m=\u001b[39;49m\u001b[38;5;124;43m'\u001b[39;49m\u001b[38;5;124;43mDOP853\u001b[39;49m\u001b[38;5;124;43m'\u001b[39;49m\u001b[43m)\u001b[49m\n",
      "File \u001b[0;32m~/.local/lib/python3.10/site-packages/scipy/integrate/_ivp/ivp.py:645\u001b[0m, in \u001b[0;36msolve_ivp\u001b[0;34m(fun, t_span, y0, method, t_eval, dense_output, events, vectorized, args, **options)\u001b[0m\n\u001b[1;32m    643\u001b[0m \u001b[38;5;28;01mif\u001b[39;00m t_eval_step\u001b[38;5;241m.\u001b[39msize \u001b[38;5;241m>\u001b[39m \u001b[38;5;241m0\u001b[39m:\n\u001b[1;32m    644\u001b[0m     \u001b[38;5;28;01mif\u001b[39;00m sol \u001b[38;5;129;01mis\u001b[39;00m \u001b[38;5;28;01mNone\u001b[39;00m:\n\u001b[0;32m--> 645\u001b[0m         sol \u001b[38;5;241m=\u001b[39m \u001b[43msolver\u001b[49m\u001b[38;5;241;43m.\u001b[39;49m\u001b[43mdense_output\u001b[49m\u001b[43m(\u001b[49m\u001b[43m)\u001b[49m\n\u001b[1;32m    646\u001b[0m     ts\u001b[38;5;241m.\u001b[39mappend(t_eval_step)\n\u001b[1;32m    647\u001b[0m     ys\u001b[38;5;241m.\u001b[39mappend(sol(t_eval_step))\n",
      "File \u001b[0;32m~/.local/lib/python3.10/site-packages/scipy/integrate/_ivp/base.py:208\u001b[0m, in \u001b[0;36mOdeSolver.dense_output\u001b[0;34m(self)\u001b[0m\n\u001b[1;32m    206\u001b[0m     \u001b[38;5;28;01mreturn\u001b[39;00m ConstantDenseOutput(\u001b[38;5;28mself\u001b[39m\u001b[38;5;241m.\u001b[39mt_old, \u001b[38;5;28mself\u001b[39m\u001b[38;5;241m.\u001b[39mt, \u001b[38;5;28mself\u001b[39m\u001b[38;5;241m.\u001b[39my)\n\u001b[1;32m    207\u001b[0m \u001b[38;5;28;01melse\u001b[39;00m:\n\u001b[0;32m--> 208\u001b[0m     \u001b[38;5;28;01mreturn\u001b[39;00m \u001b[38;5;28;43mself\u001b[39;49m\u001b[38;5;241;43m.\u001b[39;49m\u001b[43m_dense_output_impl\u001b[49m\u001b[43m(\u001b[49m\u001b[43m)\u001b[49m\n",
      "File \u001b[0;32m~/.local/lib/python3.10/site-packages/scipy/integrate/_ivp/rk.py:522\u001b[0m, in \u001b[0;36mDOP853._dense_output_impl\u001b[0;34m(self)\u001b[0m\n\u001b[1;32m    519\u001b[0m \u001b[38;5;28;01mfor\u001b[39;00m s, (a, c) \u001b[38;5;129;01min\u001b[39;00m \u001b[38;5;28menumerate\u001b[39m(\u001b[38;5;28mzip\u001b[39m(\u001b[38;5;28mself\u001b[39m\u001b[38;5;241m.\u001b[39mA_EXTRA, \u001b[38;5;28mself\u001b[39m\u001b[38;5;241m.\u001b[39mC_EXTRA),\n\u001b[1;32m    520\u001b[0m                            start\u001b[38;5;241m=\u001b[39m\u001b[38;5;28mself\u001b[39m\u001b[38;5;241m.\u001b[39mn_stages \u001b[38;5;241m+\u001b[39m \u001b[38;5;241m1\u001b[39m):\n\u001b[1;32m    521\u001b[0m     dy \u001b[38;5;241m=\u001b[39m np\u001b[38;5;241m.\u001b[39mdot(K[:s]\u001b[38;5;241m.\u001b[39mT, a[:s]) \u001b[38;5;241m*\u001b[39m h\n\u001b[0;32m--> 522\u001b[0m     K[s] \u001b[38;5;241m=\u001b[39m \u001b[38;5;28;43mself\u001b[39;49m\u001b[38;5;241;43m.\u001b[39;49m\u001b[43mfun\u001b[49m\u001b[43m(\u001b[49m\u001b[38;5;28;43mself\u001b[39;49m\u001b[38;5;241;43m.\u001b[39;49m\u001b[43mt_old\u001b[49m\u001b[43m \u001b[49m\u001b[38;5;241;43m+\u001b[39;49m\u001b[43m \u001b[49m\u001b[43mc\u001b[49m\u001b[43m \u001b[49m\u001b[38;5;241;43m*\u001b[39;49m\u001b[43m \u001b[49m\u001b[43mh\u001b[49m\u001b[43m,\u001b[49m\u001b[43m \u001b[49m\u001b[38;5;28;43mself\u001b[39;49m\u001b[38;5;241;43m.\u001b[39;49m\u001b[43my_old\u001b[49m\u001b[43m \u001b[49m\u001b[38;5;241;43m+\u001b[39;49m\u001b[43m \u001b[49m\u001b[43mdy\u001b[49m\u001b[43m)\u001b[49m\n\u001b[1;32m    524\u001b[0m F \u001b[38;5;241m=\u001b[39m np\u001b[38;5;241m.\u001b[39mempty((dop853_coefficients\u001b[38;5;241m.\u001b[39mINTERPOLATOR_POWER, \u001b[38;5;28mself\u001b[39m\u001b[38;5;241m.\u001b[39mn),\n\u001b[1;32m    525\u001b[0m              dtype\u001b[38;5;241m=\u001b[39m\u001b[38;5;28mself\u001b[39m\u001b[38;5;241m.\u001b[39my_old\u001b[38;5;241m.\u001b[39mdtype)\n\u001b[1;32m    527\u001b[0m f_old \u001b[38;5;241m=\u001b[39m K[\u001b[38;5;241m0\u001b[39m]\n",
      "File \u001b[0;32m~/.local/lib/python3.10/site-packages/scipy/integrate/_ivp/base.py:138\u001b[0m, in \u001b[0;36mOdeSolver.__init__.<locals>.fun\u001b[0;34m(t, y)\u001b[0m\n\u001b[1;32m    136\u001b[0m \u001b[38;5;28;01mdef\u001b[39;00m \u001b[38;5;21mfun\u001b[39m(t, y):\n\u001b[1;32m    137\u001b[0m     \u001b[38;5;28mself\u001b[39m\u001b[38;5;241m.\u001b[39mnfev \u001b[38;5;241m+\u001b[39m\u001b[38;5;241m=\u001b[39m \u001b[38;5;241m1\u001b[39m\n\u001b[0;32m--> 138\u001b[0m     \u001b[38;5;28;01mreturn\u001b[39;00m \u001b[38;5;28;43mself\u001b[39;49m\u001b[38;5;241;43m.\u001b[39;49m\u001b[43mfun_single\u001b[49m\u001b[43m(\u001b[49m\u001b[43mt\u001b[49m\u001b[43m,\u001b[49m\u001b[43m \u001b[49m\u001b[43my\u001b[49m\u001b[43m)\u001b[49m\n",
      "File \u001b[0;32m~/.local/lib/python3.10/site-packages/scipy/integrate/_ivp/base.py:20\u001b[0m, in \u001b[0;36mcheck_arguments.<locals>.fun_wrapped\u001b[0;34m(t, y)\u001b[0m\n\u001b[1;32m     19\u001b[0m \u001b[38;5;28;01mdef\u001b[39;00m \u001b[38;5;21mfun_wrapped\u001b[39m(t, y):\n\u001b[0;32m---> 20\u001b[0m     \u001b[38;5;28;01mreturn\u001b[39;00m np\u001b[38;5;241m.\u001b[39masarray(\u001b[43mfun\u001b[49m\u001b[43m(\u001b[49m\u001b[43mt\u001b[49m\u001b[43m,\u001b[49m\u001b[43m \u001b[49m\u001b[43my\u001b[49m\u001b[43m)\u001b[49m, dtype\u001b[38;5;241m=\u001b[39mdtype)\n",
      "Input \u001b[0;32mIn [7]\u001b[0m, in \u001b[0;36mtheta_derivatives\u001b[0;34m(t, x)\u001b[0m\n\u001b[1;32m     11\u001b[0m     damping \u001b[38;5;241m=\u001b[39m \u001b[38;5;241m-\u001b[39m\u001b[38;5;241m0.05\u001b[39m \u001b[38;5;241m*\u001b[39m omega\n\u001b[1;32m     13\u001b[0m prev_theta \u001b[38;5;241m=\u001b[39m theta\n\u001b[0;32m---> 14\u001b[0m magnet_t \u001b[38;5;241m=\u001b[39m \u001b[43mquad\u001b[49m\u001b[43m(\u001b[49m\u001b[38;5;28;43;01mlambda\u001b[39;49;00m\u001b[43m \u001b[49m\u001b[43mx\u001b[49m\u001b[43m:\u001b[49m\u001b[43m \u001b[49m\u001b[43mmagnet_torque\u001b[49m\u001b[43m(\u001b[49m\u001b[43mx\u001b[49m\u001b[43m,\u001b[49m\u001b[43m \u001b[49m\u001b[38;5;28;43mabs\u001b[39;49m\u001b[43m(\u001b[49m\u001b[43mtheta\u001b[49m\u001b[43m)\u001b[49m\u001b[43m)\u001b[49m\u001b[43m,\u001b[49m\u001b[43m \u001b[49m\u001b[38;5;241;43m0\u001b[39;49m\u001b[43m,\u001b[49m\u001b[43m \u001b[49m\u001b[43mD\u001b[49m\u001b[43m)\u001b[49m[\u001b[38;5;241m0\u001b[39m]\n\u001b[1;32m     15\u001b[0m \u001b[38;5;66;03m# magnet_t = 0\u001b[39;00m\n\u001b[1;32m     16\u001b[0m angular_accel \u001b[38;5;241m=\u001b[39m damping \u001b[38;5;241m+\u001b[39m (np\u001b[38;5;241m.\u001b[39msign(theta \u001b[38;5;241m*\u001b[39m (np\u001b[38;5;241m.\u001b[39mabs(theta) \u001b[38;5;241m-\u001b[39m np\u001b[38;5;241m.\u001b[39marctan2(D, L))) \u001b[38;5;241m*\u001b[39m (\u001b[38;5;241m-\u001b[39mm \u001b[38;5;241m*\u001b[39m g \u001b[38;5;241m*\u001b[39m (np\u001b[38;5;241m.\u001b[39mhypot(D, L) \u001b[38;5;241m/\u001b[39m \u001b[38;5;241m2\u001b[39m) \u001b[38;5;241m*\u001b[39m np\u001b[38;5;241m.\u001b[39msin(np\u001b[38;5;241m.\u001b[39mabs(theta) \u001b[38;5;241m+\u001b[39m np\u001b[38;5;241m.\u001b[39marctan2(D, L))) \u001b[38;5;241m-\u001b[39m magnet_t \u001b[38;5;241m*\u001b[39m np\u001b[38;5;241m.\u001b[39msign(theta)) \u001b[38;5;241m/\u001b[39m (m \u001b[38;5;241m*\u001b[39m L\u001b[38;5;241m*\u001b[39m\u001b[38;5;241m*\u001b[39m\u001b[38;5;241m2\u001b[39m \u001b[38;5;241m/\u001b[39m \u001b[38;5;241m12\u001b[39m \u001b[38;5;241m+\u001b[39m m \u001b[38;5;241m*\u001b[39m D\u001b[38;5;241m*\u001b[39m\u001b[38;5;241m*\u001b[39m\u001b[38;5;241m2\u001b[39m \u001b[38;5;241m/\u001b[39m \u001b[38;5;241m4\u001b[39m \u001b[38;5;241m+\u001b[39m m \u001b[38;5;241m*\u001b[39m (L\u001b[38;5;241m*\u001b[39m\u001b[38;5;241m*\u001b[39m\u001b[38;5;241m2\u001b[39m \u001b[38;5;241m+\u001b[39m D\u001b[38;5;241m*\u001b[39m\u001b[38;5;241m*\u001b[39m\u001b[38;5;241m2\u001b[39m) \u001b[38;5;241m/\u001b[39m \u001b[38;5;241m4\u001b[39m)\n",
      "File \u001b[0;32m~/.local/lib/python3.10/site-packages/scipy/integrate/_quadpack_py.py:411\u001b[0m, in \u001b[0;36mquad\u001b[0;34m(func, a, b, args, full_output, epsabs, epsrel, limit, points, weight, wvar, wopts, maxp1, limlst)\u001b[0m\n\u001b[1;32m    408\u001b[0m flip, a, b \u001b[38;5;241m=\u001b[39m b \u001b[38;5;241m<\u001b[39m a, \u001b[38;5;28mmin\u001b[39m(a, b), \u001b[38;5;28mmax\u001b[39m(a, b)\n\u001b[1;32m    410\u001b[0m \u001b[38;5;28;01mif\u001b[39;00m weight \u001b[38;5;129;01mis\u001b[39;00m \u001b[38;5;28;01mNone\u001b[39;00m:\n\u001b[0;32m--> 411\u001b[0m     retval \u001b[38;5;241m=\u001b[39m \u001b[43m_quad\u001b[49m\u001b[43m(\u001b[49m\u001b[43mfunc\u001b[49m\u001b[43m,\u001b[49m\u001b[43m \u001b[49m\u001b[43ma\u001b[49m\u001b[43m,\u001b[49m\u001b[43m \u001b[49m\u001b[43mb\u001b[49m\u001b[43m,\u001b[49m\u001b[43m \u001b[49m\u001b[43margs\u001b[49m\u001b[43m,\u001b[49m\u001b[43m \u001b[49m\u001b[43mfull_output\u001b[49m\u001b[43m,\u001b[49m\u001b[43m \u001b[49m\u001b[43mepsabs\u001b[49m\u001b[43m,\u001b[49m\u001b[43m \u001b[49m\u001b[43mepsrel\u001b[49m\u001b[43m,\u001b[49m\u001b[43m \u001b[49m\u001b[43mlimit\u001b[49m\u001b[43m,\u001b[49m\n\u001b[1;32m    412\u001b[0m \u001b[43m                   \u001b[49m\u001b[43mpoints\u001b[49m\u001b[43m)\u001b[49m\n\u001b[1;32m    413\u001b[0m \u001b[38;5;28;01melse\u001b[39;00m:\n\u001b[1;32m    414\u001b[0m     \u001b[38;5;28;01mif\u001b[39;00m points \u001b[38;5;129;01mis\u001b[39;00m \u001b[38;5;129;01mnot\u001b[39;00m \u001b[38;5;28;01mNone\u001b[39;00m:\n",
      "File \u001b[0;32m~/.local/lib/python3.10/site-packages/scipy/integrate/_quadpack_py.py:523\u001b[0m, in \u001b[0;36m_quad\u001b[0;34m(func, a, b, args, full_output, epsabs, epsrel, limit, points)\u001b[0m\n\u001b[1;32m    521\u001b[0m \u001b[38;5;28;01mif\u001b[39;00m points \u001b[38;5;129;01mis\u001b[39;00m \u001b[38;5;28;01mNone\u001b[39;00m:\n\u001b[1;32m    522\u001b[0m     \u001b[38;5;28;01mif\u001b[39;00m infbounds \u001b[38;5;241m==\u001b[39m \u001b[38;5;241m0\u001b[39m:\n\u001b[0;32m--> 523\u001b[0m         \u001b[38;5;28;01mreturn\u001b[39;00m \u001b[43m_quadpack\u001b[49m\u001b[38;5;241;43m.\u001b[39;49m\u001b[43m_qagse\u001b[49m\u001b[43m(\u001b[49m\u001b[43mfunc\u001b[49m\u001b[43m,\u001b[49m\u001b[43ma\u001b[49m\u001b[43m,\u001b[49m\u001b[43mb\u001b[49m\u001b[43m,\u001b[49m\u001b[43margs\u001b[49m\u001b[43m,\u001b[49m\u001b[43mfull_output\u001b[49m\u001b[43m,\u001b[49m\u001b[43mepsabs\u001b[49m\u001b[43m,\u001b[49m\u001b[43mepsrel\u001b[49m\u001b[43m,\u001b[49m\u001b[43mlimit\u001b[49m\u001b[43m)\u001b[49m\n\u001b[1;32m    524\u001b[0m     \u001b[38;5;28;01melse\u001b[39;00m:\n\u001b[1;32m    525\u001b[0m         \u001b[38;5;28;01mreturn\u001b[39;00m _quadpack\u001b[38;5;241m.\u001b[39m_qagie(func,bound,infbounds,args,full_output,epsabs,epsrel,limit)\n",
      "Input \u001b[0;32mIn [7]\u001b[0m, in \u001b[0;36mtheta_derivatives.<locals>.<lambda>\u001b[0;34m(x)\u001b[0m\n\u001b[1;32m     11\u001b[0m     damping \u001b[38;5;241m=\u001b[39m \u001b[38;5;241m-\u001b[39m\u001b[38;5;241m0.05\u001b[39m \u001b[38;5;241m*\u001b[39m omega\n\u001b[1;32m     13\u001b[0m prev_theta \u001b[38;5;241m=\u001b[39m theta\n\u001b[0;32m---> 14\u001b[0m magnet_t \u001b[38;5;241m=\u001b[39m quad(\u001b[38;5;28;01mlambda\u001b[39;00m x: \u001b[43mmagnet_torque\u001b[49m\u001b[43m(\u001b[49m\u001b[43mx\u001b[49m\u001b[43m,\u001b[49m\u001b[43m \u001b[49m\u001b[38;5;28;43mabs\u001b[39;49m\u001b[43m(\u001b[49m\u001b[43mtheta\u001b[49m\u001b[43m)\u001b[49m\u001b[43m)\u001b[49m, \u001b[38;5;241m0\u001b[39m, D)[\u001b[38;5;241m0\u001b[39m]\n\u001b[1;32m     15\u001b[0m \u001b[38;5;66;03m# magnet_t = 0\u001b[39;00m\n\u001b[1;32m     16\u001b[0m angular_accel \u001b[38;5;241m=\u001b[39m damping \u001b[38;5;241m+\u001b[39m (np\u001b[38;5;241m.\u001b[39msign(theta \u001b[38;5;241m*\u001b[39m (np\u001b[38;5;241m.\u001b[39mabs(theta) \u001b[38;5;241m-\u001b[39m np\u001b[38;5;241m.\u001b[39marctan2(D, L))) \u001b[38;5;241m*\u001b[39m (\u001b[38;5;241m-\u001b[39mm \u001b[38;5;241m*\u001b[39m g \u001b[38;5;241m*\u001b[39m (np\u001b[38;5;241m.\u001b[39mhypot(D, L) \u001b[38;5;241m/\u001b[39m \u001b[38;5;241m2\u001b[39m) \u001b[38;5;241m*\u001b[39m np\u001b[38;5;241m.\u001b[39msin(np\u001b[38;5;241m.\u001b[39mabs(theta) \u001b[38;5;241m+\u001b[39m np\u001b[38;5;241m.\u001b[39marctan2(D, L))) \u001b[38;5;241m-\u001b[39m magnet_t \u001b[38;5;241m*\u001b[39m np\u001b[38;5;241m.\u001b[39msign(theta)) \u001b[38;5;241m/\u001b[39m (m \u001b[38;5;241m*\u001b[39m L\u001b[38;5;241m*\u001b[39m\u001b[38;5;241m*\u001b[39m\u001b[38;5;241m2\u001b[39m \u001b[38;5;241m/\u001b[39m \u001b[38;5;241m12\u001b[39m \u001b[38;5;241m+\u001b[39m m \u001b[38;5;241m*\u001b[39m D\u001b[38;5;241m*\u001b[39m\u001b[38;5;241m*\u001b[39m\u001b[38;5;241m2\u001b[39m \u001b[38;5;241m/\u001b[39m \u001b[38;5;241m4\u001b[39m \u001b[38;5;241m+\u001b[39m m \u001b[38;5;241m*\u001b[39m (L\u001b[38;5;241m*\u001b[39m\u001b[38;5;241m*\u001b[39m\u001b[38;5;241m2\u001b[39m \u001b[38;5;241m+\u001b[39m D\u001b[38;5;241m*\u001b[39m\u001b[38;5;241m*\u001b[39m\u001b[38;5;241m2\u001b[39m) \u001b[38;5;241m/\u001b[39m \u001b[38;5;241m4\u001b[39m)\n",
      "Input \u001b[0;32mIn [5]\u001b[0m, in \u001b[0;36mmagnet_torque\u001b[0;34m(d, theta)\u001b[0m\n\u001b[1;32m     14\u001b[0m \u001b[38;5;28;01mdef\u001b[39;00m \u001b[38;5;21mmagnet_torque\u001b[39m(d, theta):\n\u001b[0;32m---> 15\u001b[0m     x_dipole, y_dipole \u001b[38;5;241m=\u001b[39m \u001b[43mdipole_position\u001b[49m\u001b[43m(\u001b[49m\u001b[43md\u001b[49m\u001b[43m,\u001b[49m\u001b[43m \u001b[49m\u001b[43mtheta\u001b[49m\u001b[43m)\u001b[49m\n\u001b[1;32m     16\u001b[0m     dipole_dist \u001b[38;5;241m=\u001b[39m np\u001b[38;5;241m.\u001b[39mhypot(x_dipole, y_dipole\u001b[38;5;241m-\u001b[39mh)\n\u001b[1;32m     17\u001b[0m     dipole_angle \u001b[38;5;241m=\u001b[39m np\u001b[38;5;241m.\u001b[39marctan2(x_dipole, \u001b[38;5;241m-\u001b[39m(y_dipole \u001b[38;5;241m-\u001b[39m h))\n",
      "Input \u001b[0;32mIn [5]\u001b[0m, in \u001b[0;36mdipole_position\u001b[0;34m(d, theta)\u001b[0m\n\u001b[1;32m     11\u001b[0m \u001b[38;5;28;01mdef\u001b[39;00m \u001b[38;5;21mdipole_position\u001b[39m(d, theta):\n\u001b[0;32m---> 12\u001b[0m     \u001b[38;5;28;01mreturn\u001b[39;00m [D\u001b[38;5;241m/\u001b[39m\u001b[38;5;241m2\u001b[39m \u001b[38;5;241m-\u001b[39m d\u001b[38;5;241m*\u001b[39m\u001b[43mnp\u001b[49m\u001b[38;5;241;43m.\u001b[39;49m\u001b[43mcos\u001b[49m\u001b[43m(\u001b[49m\u001b[43mtheta\u001b[49m\u001b[43m)\u001b[49m, \u001b[38;5;241m-\u001b[39md\u001b[38;5;241m*\u001b[39mnp\u001b[38;5;241m.\u001b[39msin(theta)]\n",
      "\u001b[0;31mKeyboardInterrupt\u001b[0m: "
     ]
    }
   ],
   "source": [
    "time = np.linspace(0, 2, 10000)\n",
    "\n",
    "theta_0 = np.radians(50)\n",
    "\n",
    "sol = solve_ivp(theta_derivatives, [time[0], time[-1]], y0=[theta_0, 0], t_eval=time, method='DOP853')"
   ]
  },
  {
   "cell_type": "code",
   "execution_count": null,
   "metadata": {
    "ExecuteTime": {
     "end_time": "2023-05-24T13:25:01.072164303Z",
     "start_time": "2023-05-24T13:25:00.849630873Z"
    }
   },
   "outputs": [],
   "source": [
    "plt.plot(sol.t, np.degrees(sol.y[0]))\n",
    "plt.plot(sol.t, sol.y[1])"
   ]
  },
  {
   "cell_type": "code",
   "execution_count": null,
   "metadata": {
    "ExecuteTime": {
     "end_time": "2023-05-25T21:44:43.800742306Z",
     "start_time": "2023-05-25T21:44:43.750262915Z"
    }
   },
   "outputs": [],
   "source": [
    "def euler_euler(theta_0, t_end, dt):\n",
    "    thetas = np.zeros(int(t_end // dt))\n",
    "    omegas = np.zeros(int(t_end // dt))\n",
    "\n",
    "    thetas[0] = theta_0\n",
    "    theta = theta_0\n",
    "    omega = 0\n",
    "\n",
    "    time = 0\n",
    "\n",
    "    for i in range(1, int(t_end // dt)):\n",
    "        magnet_t = quad(lambda x: magnet_torque(x, abs(theta)), 0, D)[0]\n",
    "        angular_accel = (np.sign(theta * (np.abs(theta) - np.arctan2(D, L))) * (-m * g * (np.hypot(D, L) / 2) * np.sin(np.abs(theta) + np.arctan2(D, L))) - magnet_t * np.sign(theta)) / (m * L**2 / 12 + m * D**2 / 4 + m * (L**2 + D**2) / 4)\n",
    "\n",
    "        omega += angular_accel * dt\n",
    "        theta += omega * dt\n",
    "\n",
    "        if np.sign(thetas[i-1]) != np.sign(theta):\n",
    "            print(i)\n",
    "            omega *= 0.946\n",
    "\n",
    "        thetas[i] = theta\n",
    "        omegas[i] = omega\n",
    "\n",
    "    return thetas, omegas"
   ]
  },
  {
   "cell_type": "code",
   "execution_count": null,
   "metadata": {
    "ExecuteTime": {
     "end_time": "2023-05-25T21:45:54.588835264Z",
     "start_time": "2023-05-25T21:44:45.173581274Z"
    }
   },
   "outputs": [],
   "source": [
    "t_end = 2\n",
    "dt = 0.0001\n",
    "\n",
    "thetas, omegas = euler_euler(np.radians(50), t_end, dt)"
   ]
  },
  {
   "cell_type": "code",
   "execution_count": null,
   "metadata": {
    "ExecuteTime": {
     "end_time": "2023-05-24T20:18:34.193558Z",
     "start_time": "2023-05-24T20:18:34.164845186Z"
    }
   },
   "outputs": [],
   "source": [
    "with open('../data_processing/data.pickle', 'rb') as f:\n",
    "    data_map = pickle.load(f)\n",
    "a = data_map[10][100][40]\n",
    "a['t'] = a['t'] - a['t'].iloc[76]\n",
    "a['t'] = a['t'][a['t'] > 0]\n",
    "a['theta'] = savgol_filter(a['theta'], 10, 3)"
   ]
  },
  {
   "cell_type": "code",
   "execution_count": null,
   "metadata": {
    "ExecuteTime": {
     "end_time": "2023-05-24T20:18:36.438457602Z",
     "start_time": "2023-05-24T20:18:36.394884063Z"
    }
   },
   "outputs": [],
   "source": [
    "a['theta'][a['theta'] < 0] = a['theta'][a['theta'] < 0] * 0.9"
   ]
  },
  {
   "cell_type": "code",
   "execution_count": null,
   "metadata": {
    "ExecuteTime": {
     "end_time": "2023-05-25T21:45:59.928236348Z",
     "start_time": "2023-05-25T21:45:59.186574209Z"
    }
   },
   "outputs": [],
   "source": [
    "plt.xlabel('Time (s)')\n",
    "plt.ylabel('Angle ($^\\circ$)')\n",
    "plt.title(r'$\\theta_0 \\approx 50^\\circ$, $L \\approx 100$\\,mm, $D \\approx 10$\\,mm')\n",
    "\n",
    "plt.plot(a['t'][a['t'] < 2], a['theta'][a['t'] < 2] * 180 / np.pi, linestyle='None', marker='o', label='data')\n",
    "plt.plot(np.arange(0, 2, dt)[:-1], np.degrees(thetas), label='model     ')\n",
    "\n",
    "plt.legend(loc='upper left', bbox_to_anchor=(1, 0.9))\n",
    "plt.savefig('oscillations_cor.png', bbox_inches='tight')"
   ]
  },
  {
   "cell_type": "code",
   "execution_count": null,
   "metadata": {
    "ExecuteTime": {
     "end_time": "2023-05-23T11:54:26.686737297Z",
     "start_time": "2023-05-23T11:54:26.682754553Z"
    }
   },
   "outputs": [],
   "source": [
    "def period(theta_0):\n",
    "    time = np.linspace(0, 2, 1000)\n",
    "\n",
    "    sol = solve_ivp(theta_derivatives, [time[0], time[-1]], y0=[theta_0, 0], t_eval=time, method='Radau')\n",
    "\n",
    "    peaks, _ = find_peaks(sol.y[0])\n",
    "    return (sol.t[peaks[1]] - sol.t[peaks[0]]), sol.y[0], sol.y[1]"
   ]
  },
  {
   "cell_type": "code",
   "execution_count": null,
   "metadata": {
    "ExecuteTime": {
     "end_time": "2023-05-24T06:27:25.010031027Z",
     "start_time": "2023-05-24T06:27:22.375698112Z"
    }
   },
   "outputs": [],
   "source": [
    "angles = np.linspace(20, 80, 10)\n",
    "\n",
    "M_2_arr = [M_2 / 6 - M_2_err, M_2 / 6 + M_2_err]\n",
    "# M_2_arr = [631000]\n",
    "periods = [[], []]\n",
    "thetas_arr = [[], []]\n",
    "omegas_arr = [[], []]\n",
    "\n",
    "for i, M_2_a in enumerate(M_2_arr):\n",
    "    M_2 = M_2_a\n",
    "    print(M_2)\n",
    "    for angle in angles:\n",
    "        T, thetas, omegas = period(np.radians(angle))\n",
    "        periods[i].append(T)\n",
    "        thetas_arr[i].append(thetas)\n",
    "        omegas_arr[i].append(omegas)\n",
    "        print(angle)"
   ]
  },
  {
   "cell_type": "code",
   "execution_count": null,
   "metadata": {
    "ExecuteTime": {
     "end_time": "2023-05-24T06:26:37.170994921Z",
     "start_time": "2023-05-24T06:26:37.130079402Z"
    }
   },
   "outputs": [],
   "source": [
    "with open('../data_processing/periods.pickle', 'rb') as f:\n",
    "    periods_df = pickle.load(f)"
   ]
  },
  {
   "cell_type": "code",
   "execution_count": null,
   "metadata": {
    "ExecuteTime": {
     "end_time": "2023-05-23T20:01:58.083454569Z",
     "start_time": "2023-05-23T20:01:58.073159052Z"
    }
   },
   "outputs": [],
   "source": [
    "periods[0]"
   ]
  },
  {
   "cell_type": "code",
   "execution_count": null,
   "metadata": {
    "ExecuteTime": {
     "end_time": "2023-05-24T06:27:28.654723265Z",
     "start_time": "2023-05-24T06:27:28.285546532Z"
    }
   },
   "outputs": [],
   "source": [
    "d = 4\n",
    "l = 100\n",
    "\n",
    "plot_data = periods_df[(periods_df['l'] == l) & (periods_df['d'] == d)]\n",
    "plt.errorbar(\n",
    "    x=plot_data['initial_angle'],\n",
    "    y=plot_data['period'],\n",
    "    yerr=plot_data['period_std'],\n",
    "    linestyle='None',\n",
    "    marker='o',\n",
    "    capsize=4,\n",
    "    color='darkorange',\n",
    "    label='experiments'\n",
    ")\n",
    "\n",
    "plt.fill_between(angles, periods[0], periods[1], alpha=0.2, label='model')\n",
    "plt.plot(angles, np.average(periods, axis=0))\n",
    "\n",
    "plt.legend(\n",
    "    fancybox=True\n",
    ")\n",
    "\n",
    "plt.title(\"$d \\\\approx {}\\,$mm, $l \\\\approx {}\\,$mm\".format(d, l))\n",
    "\n",
    "plt.xlabel(\"Initial angle $\\\\theta_0\\\\,$($^\\circ$)\")\n",
    "plt.ylabel(\"Period $T$ (s)\")\n",
    "\n",
    "# plt.savefig(\"period_initial_angle_length{}_d{}_model.png\".format(l, d), bbox_inches=\"tight\")"
   ]
  },
  {
   "cell_type": "code",
   "execution_count": null,
   "metadata": {
    "ExecuteTime": {
     "end_time": "2023-05-24T06:11:01.604672711Z",
     "start_time": "2023-05-24T06:11:01.599657978Z"
    }
   },
   "outputs": [],
   "source": [
    "with open(\"d_{}_l_{}_model.pickle\".format(d, l), \"wb\") as f:\n",
    "    pickle.dump(periods, f)"
   ]
  },
  {
   "cell_type": "code",
   "execution_count": null,
   "metadata": {},
   "outputs": [],
   "source": [
    "from scipy.signal import find_peaks\n",
    "\n",
    "peaks, _ = find_peaks(-np.abs(theta))"
   ]
  }
 ],
 "metadata": {
  "kernelspec": {
   "display_name": "Python 3 (ipykernel)",
   "language": "python",
   "name": "python3"
  },
  "language_info": {
   "codemirror_mode": {
    "name": "ipython",
    "version": 3
   },
   "file_extension": ".py",
   "mimetype": "text/x-python",
   "name": "python",
   "nbconvert_exporter": "python",
   "pygments_lexer": "ipython3",
   "version": "3.10.10"
  }
 },
 "nbformat": 4,
 "nbformat_minor": 1
}
