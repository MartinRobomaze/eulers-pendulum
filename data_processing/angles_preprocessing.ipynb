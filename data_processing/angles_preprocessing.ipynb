{
 "cells": [
  {
   "cell_type": "code",
   "execution_count": 101,
   "metadata": {
    "ExecuteTime": {
     "end_time": "2023-05-24T11:37:03.686569518Z",
     "start_time": "2023-05-24T11:37:03.679341297Z"
    }
   },
   "outputs": [],
   "source": [
    "import numpy as np\n",
    "import matplotlib.pyplot as plt\n",
    "import pandas as pd\n",
    "from scipy.optimize import fsolve\n",
    "from scipy.signal import savgol_filter, find_peaks\n",
    "from collections import defaultdict\n",
    "import pickle"
   ]
  },
  {
   "cell_type": "code",
   "execution_count": 102,
   "metadata": {
    "ExecuteTime": {
     "end_time": "2023-05-24T11:37:04.355878453Z",
     "start_time": "2023-05-24T11:37:04.346736251Z"
    }
   },
   "outputs": [],
   "source": [
    "def nested_dict():\n",
    "    return defaultdict(nested_dict)"
   ]
  },
  {
   "cell_type": "code",
   "execution_count": 103,
   "metadata": {
    "ExecuteTime": {
     "end_time": "2023-05-24T11:37:05.089932546Z",
     "start_time": "2023-05-24T11:37:05.074205284Z"
    }
   },
   "outputs": [],
   "source": [
    "def theta_equation(theta, x, y, l, d):\n",
    "    added_distance = d / 2 * np.tan(theta)\n",
    "    x_transf = x - added_distance\n",
    "    r = l + added_distance\n",
    "\n",
    "    return np.arccos(np.sqrt(r**2 - x_transf**2 - y**2) / r) - theta"
   ]
  },
  {
   "cell_type": "code",
   "execution_count": 113,
   "metadata": {
    "ExecuteTime": {
     "end_time": "2023-05-24T18:05:41.421461671Z",
     "start_time": "2023-05-24T18:05:41.363153689Z"
    }
   },
   "outputs": [],
   "source": [
    "import glob\n",
    "\n",
    "filenames = glob.glob(\"../data/**/*.txt\", recursive=True)"
   ]
  },
  {
   "cell_type": "code",
   "execution_count": 105,
   "metadata": {
    "ExecuteTime": {
     "end_time": "2023-05-24T11:37:06.527338263Z",
     "start_time": "2023-05-24T11:37:06.519229910Z"
    }
   },
   "outputs": [],
   "source": [
    "filenames = ['../data/d_10mm/l_100mm/d_10mm_l_100mm_80deg.txt']"
   ]
  },
  {
   "cell_type": "code",
   "execution_count": 121,
   "metadata": {
    "ExecuteTime": {
     "end_time": "2023-05-24T18:41:25.083943678Z",
     "start_time": "2023-05-24T18:40:43.448678834Z"
    }
   },
   "outputs": [
    {
     "name": "stderr",
     "output_type": "stream",
     "text": [
      "/tmp/ipykernel_238175/3531340381.py:6: RuntimeWarning: invalid value encountered in sqrt\n",
      "  return np.arccos(np.sqrt(r**2 - x_transf**2 - y**2) / r) - theta\n",
      "/home/robomaze/.local/lib/python3.10/site-packages/scipy/optimize/_minpack_py.py:175: RuntimeWarning: The iteration is not making good progress, as measured by the \n",
      "  improvement from the last ten iterations.\n",
      "  warnings.warn(msg, RuntimeWarning)\n",
      "/tmp/ipykernel_238175/3531340381.py:6: RuntimeWarning: invalid value encountered in sqrt\n",
      "  return np.arccos(np.sqrt(r**2 - x_transf**2 - y**2) / r) - theta\n",
      "/home/robomaze/.local/lib/python3.10/site-packages/scipy/optimize/_minpack_py.py:175: RuntimeWarning: The iteration is not making good progress, as measured by the \n",
      "  improvement from the last ten iterations.\n",
      "  warnings.warn(msg, RuntimeWarning)\n",
      "/home/robomaze/.local/lib/python3.10/site-packages/scipy/optimize/_minpack_py.py:175: RuntimeWarning: The iteration is not making good progress, as measured by the \n",
      "  improvement from the last ten iterations.\n",
      "  warnings.warn(msg, RuntimeWarning)\n",
      "/tmp/ipykernel_238175/3531340381.py:6: RuntimeWarning: invalid value encountered in sqrt\n",
      "  return np.arccos(np.sqrt(r**2 - x_transf**2 - y**2) / r) - theta\n",
      "/home/robomaze/.local/lib/python3.10/site-packages/scipy/optimize/_minpack_py.py:175: RuntimeWarning: The iteration is not making good progress, as measured by the \n",
      "  improvement from the last ten iterations.\n",
      "  warnings.warn(msg, RuntimeWarning)\n",
      "/tmp/ipykernel_238175/3531340381.py:6: RuntimeWarning: invalid value encountered in sqrt\n",
      "  return np.arccos(np.sqrt(r**2 - x_transf**2 - y**2) / r) - theta\n",
      "/home/robomaze/.local/lib/python3.10/site-packages/scipy/optimize/_minpack_py.py:175: RuntimeWarning: The iteration is not making good progress, as measured by the \n",
      "  improvement from the last ten iterations.\n",
      "  warnings.warn(msg, RuntimeWarning)\n",
      "/tmp/ipykernel_238175/3531340381.py:6: RuntimeWarning: invalid value encountered in sqrt\n",
      "  return np.arccos(np.sqrt(r**2 - x_transf**2 - y**2) / r) - theta\n",
      "/home/robomaze/.local/lib/python3.10/site-packages/scipy/optimize/_minpack_py.py:175: RuntimeWarning: The iteration is not making good progress, as measured by the \n",
      "  improvement from the last ten iterations.\n",
      "  warnings.warn(msg, RuntimeWarning)\n",
      "/tmp/ipykernel_238175/3531340381.py:6: RuntimeWarning: invalid value encountered in sqrt\n",
      "  return np.arccos(np.sqrt(r**2 - x_transf**2 - y**2) / r) - theta\n",
      "/home/robomaze/.local/lib/python3.10/site-packages/scipy/optimize/_minpack_py.py:175: RuntimeWarning: The iteration is not making good progress, as measured by the \n",
      "  improvement from the last ten iterations.\n",
      "  warnings.warn(msg, RuntimeWarning)\n",
      "/tmp/ipykernel_238175/3531340381.py:6: RuntimeWarning: invalid value encountered in sqrt\n",
      "  return np.arccos(np.sqrt(r**2 - x_transf**2 - y**2) / r) - theta\n",
      "/home/robomaze/.local/lib/python3.10/site-packages/scipy/optimize/_minpack_py.py:175: RuntimeWarning: The iteration is not making good progress, as measured by the \n",
      "  improvement from the last ten iterations.\n",
      "  warnings.warn(msg, RuntimeWarning)\n",
      "/tmp/ipykernel_238175/3531340381.py:6: RuntimeWarning: invalid value encountered in sqrt\n",
      "  return np.arccos(np.sqrt(r**2 - x_transf**2 - y**2) / r) - theta\n",
      "/home/robomaze/.local/lib/python3.10/site-packages/scipy/optimize/_minpack_py.py:175: RuntimeWarning: The iteration is not making good progress, as measured by the \n",
      "  improvement from the last ten iterations.\n",
      "  warnings.warn(msg, RuntimeWarning)\n",
      "/tmp/ipykernel_238175/3531340381.py:6: RuntimeWarning: invalid value encountered in sqrt\n",
      "  return np.arccos(np.sqrt(r**2 - x_transf**2 - y**2) / r) - theta\n",
      "/home/robomaze/.local/lib/python3.10/site-packages/scipy/optimize/_minpack_py.py:175: RuntimeWarning: The iteration is not making good progress, as measured by the \n",
      "  improvement from the last ten iterations.\n",
      "  warnings.warn(msg, RuntimeWarning)\n",
      "/tmp/ipykernel_238175/3531340381.py:6: RuntimeWarning: invalid value encountered in sqrt\n",
      "  return np.arccos(np.sqrt(r**2 - x_transf**2 - y**2) / r) - theta\n",
      "/home/robomaze/.local/lib/python3.10/site-packages/scipy/optimize/_minpack_py.py:175: RuntimeWarning: The iteration is not making good progress, as measured by the \n",
      "  improvement from the last ten iterations.\n",
      "  warnings.warn(msg, RuntimeWarning)\n",
      "/tmp/ipykernel_238175/3531340381.py:6: RuntimeWarning: invalid value encountered in sqrt\n",
      "  return np.arccos(np.sqrt(r**2 - x_transf**2 - y**2) / r) - theta\n",
      "/home/robomaze/.local/lib/python3.10/site-packages/scipy/optimize/_minpack_py.py:175: RuntimeWarning: The iteration is not making good progress, as measured by the \n",
      "  improvement from the last ten iterations.\n",
      "  warnings.warn(msg, RuntimeWarning)\n",
      "/tmp/ipykernel_238175/3531340381.py:6: RuntimeWarning: invalid value encountered in sqrt\n",
      "  return np.arccos(np.sqrt(r**2 - x_transf**2 - y**2) / r) - theta\n",
      "/home/robomaze/.local/lib/python3.10/site-packages/scipy/optimize/_minpack_py.py:175: RuntimeWarning: The iteration is not making good progress, as measured by the \n",
      "  improvement from the last ten iterations.\n",
      "  warnings.warn(msg, RuntimeWarning)\n",
      "/home/robomaze/.local/lib/python3.10/site-packages/scipy/optimize/_minpack_py.py:175: RuntimeWarning: The iteration is not making good progress, as measured by the \n",
      "  improvement from the last ten iterations.\n",
      "  warnings.warn(msg, RuntimeWarning)\n",
      "/tmp/ipykernel_238175/3531340381.py:6: RuntimeWarning: invalid value encountered in sqrt\n",
      "  return np.arccos(np.sqrt(r**2 - x_transf**2 - y**2) / r) - theta\n",
      "/home/robomaze/.local/lib/python3.10/site-packages/scipy/optimize/_minpack_py.py:175: RuntimeWarning: The iteration is not making good progress, as measured by the \n",
      "  improvement from the last ten iterations.\n",
      "  warnings.warn(msg, RuntimeWarning)\n",
      "/tmp/ipykernel_238175/3531340381.py:6: RuntimeWarning: invalid value encountered in sqrt\n",
      "  return np.arccos(np.sqrt(r**2 - x_transf**2 - y**2) / r) - theta\n",
      "/home/robomaze/.local/lib/python3.10/site-packages/scipy/optimize/_minpack_py.py:175: RuntimeWarning: The iteration is not making good progress, as measured by the \n",
      "  improvement from the last ten iterations.\n",
      "  warnings.warn(msg, RuntimeWarning)\n",
      "/tmp/ipykernel_238175/3531340381.py:6: RuntimeWarning: invalid value encountered in sqrt\n",
      "  return np.arccos(np.sqrt(r**2 - x_transf**2 - y**2) / r) - theta\n",
      "/home/robomaze/.local/lib/python3.10/site-packages/scipy/optimize/_minpack_py.py:175: RuntimeWarning: The iteration is not making good progress, as measured by the \n",
      "  improvement from the last ten iterations.\n",
      "  warnings.warn(msg, RuntimeWarning)\n",
      "/tmp/ipykernel_238175/3531340381.py:6: RuntimeWarning: invalid value encountered in sqrt\n",
      "  return np.arccos(np.sqrt(r**2 - x_transf**2 - y**2) / r) - theta\n",
      "/home/robomaze/.local/lib/python3.10/site-packages/scipy/optimize/_minpack_py.py:175: RuntimeWarning: The iteration is not making good progress, as measured by the \n",
      "  improvement from the last ten iterations.\n",
      "  warnings.warn(msg, RuntimeWarning)\n",
      "/tmp/ipykernel_238175/3531340381.py:6: RuntimeWarning: invalid value encountered in sqrt\n",
      "  return np.arccos(np.sqrt(r**2 - x_transf**2 - y**2) / r) - theta\n",
      "/home/robomaze/.local/lib/python3.10/site-packages/scipy/optimize/_minpack_py.py:175: RuntimeWarning: The iteration is not making good progress, as measured by the \n",
      "  improvement from the last ten iterations.\n",
      "  warnings.warn(msg, RuntimeWarning)\n",
      "/tmp/ipykernel_238175/3531340381.py:6: RuntimeWarning: invalid value encountered in sqrt\n",
      "  return np.arccos(np.sqrt(r**2 - x_transf**2 - y**2) / r) - theta\n",
      "/home/robomaze/.local/lib/python3.10/site-packages/scipy/optimize/_minpack_py.py:175: RuntimeWarning: The iteration is not making good progress, as measured by the \n",
      "  improvement from the last ten iterations.\n",
      "  warnings.warn(msg, RuntimeWarning)\n",
      "/tmp/ipykernel_238175/3531340381.py:6: RuntimeWarning: invalid value encountered in sqrt\n",
      "  return np.arccos(np.sqrt(r**2 - x_transf**2 - y**2) / r) - theta\n",
      "/home/robomaze/.local/lib/python3.10/site-packages/scipy/optimize/_minpack_py.py:175: RuntimeWarning: The iteration is not making good progress, as measured by the \n",
      "  improvement from the last ten iterations.\n",
      "  warnings.warn(msg, RuntimeWarning)\n",
      "/tmp/ipykernel_238175/3531340381.py:6: RuntimeWarning: invalid value encountered in sqrt\n",
      "  return np.arccos(np.sqrt(r**2 - x_transf**2 - y**2) / r) - theta\n",
      "/home/robomaze/.local/lib/python3.10/site-packages/scipy/optimize/_minpack_py.py:175: RuntimeWarning: The iteration is not making good progress, as measured by the \n",
      "  improvement from the last ten iterations.\n",
      "  warnings.warn(msg, RuntimeWarning)\n",
      "/tmp/ipykernel_238175/3531340381.py:6: RuntimeWarning: invalid value encountered in sqrt\n",
      "  return np.arccos(np.sqrt(r**2 - x_transf**2 - y**2) / r) - theta\n",
      "/home/robomaze/.local/lib/python3.10/site-packages/scipy/optimize/_minpack_py.py:175: RuntimeWarning: The iteration is not making good progress, as measured by the \n",
      "  improvement from the last ten iterations.\n",
      "  warnings.warn(msg, RuntimeWarning)\n",
      "/tmp/ipykernel_238175/3531340381.py:6: RuntimeWarning: invalid value encountered in sqrt\n",
      "  return np.arccos(np.sqrt(r**2 - x_transf**2 - y**2) / r) - theta\n",
      "/home/robomaze/.local/lib/python3.10/site-packages/scipy/optimize/_minpack_py.py:175: RuntimeWarning: The iteration is not making good progress, as measured by the \n",
      "  improvement from the last ten iterations.\n",
      "  warnings.warn(msg, RuntimeWarning)\n",
      "/tmp/ipykernel_238175/3531340381.py:6: RuntimeWarning: invalid value encountered in sqrt\n",
      "  return np.arccos(np.sqrt(r**2 - x_transf**2 - y**2) / r) - theta\n",
      "/home/robomaze/.local/lib/python3.10/site-packages/scipy/optimize/_minpack_py.py:175: RuntimeWarning: The iteration is not making good progress, as measured by the \n",
      "  improvement from the last ten iterations.\n",
      "  warnings.warn(msg, RuntimeWarning)\n",
      "/tmp/ipykernel_238175/3531340381.py:6: RuntimeWarning: invalid value encountered in sqrt\n",
      "  return np.arccos(np.sqrt(r**2 - x_transf**2 - y**2) / r) - theta\n",
      "/home/robomaze/.local/lib/python3.10/site-packages/scipy/optimize/_minpack_py.py:175: RuntimeWarning: The iteration is not making good progress, as measured by the \n",
      "  improvement from the last ten iterations.\n",
      "  warnings.warn(msg, RuntimeWarning)\n",
      "/tmp/ipykernel_238175/3531340381.py:6: RuntimeWarning: invalid value encountered in sqrt\n",
      "  return np.arccos(np.sqrt(r**2 - x_transf**2 - y**2) / r) - theta\n",
      "/home/robomaze/.local/lib/python3.10/site-packages/scipy/optimize/_minpack_py.py:175: RuntimeWarning: The iteration is not making good progress, as measured by the \n",
      "  improvement from the last ten iterations.\n",
      "  warnings.warn(msg, RuntimeWarning)\n"
     ]
    }
   ],
   "source": [
    "data_map = nested_dict()\n",
    "\n",
    "for filename in filenames:\n",
    "    filename_no_path = filename.split(\"/\")[-1]\n",
    "    d = int(filename_no_path.split(\"_\")[1][:-2])\n",
    "    l = int(filename_no_path.split(\"_\")[3][:-2])\n",
    "    initial_angle = int(filename_no_path.split(\"_\")[-1][:-7])\n",
    "\n",
    "    df_file = pd.read_csv(filename, skiprows=1)\n",
    "    df_file = df_file.drop('Unnamed: 3', axis=1)\n",
    "    df_file['x'] = (df_file['x']) * 148 / 654\n",
    "    df_file['y'] = (df_file['y']) * 148 / 654\n",
    "\n",
    "    df_file['z'] = np.sqrt(np.abs((l + d)**2 - df_file['x']**2 - df_file['y']**2))\n",
    "\n",
    "    df_file['phi'] = np.sign(df_file['y']) * np.arccos(df_file['x'] / np.sqrt(df_file['x']**2 + df_file['y']**2))\n",
    "\n",
    "    theta = np.ndarray([len(df_file)])\n",
    "    for i, row in df_file.iterrows():\n",
    "        theta[i] = fsolve(theta_equation, x0=np.array([np.pi/4]), args=(row['x'], row['y'], l, d))\n",
    "\n",
    "    df_file['theta'] = savgol_filter(theta, 10, 3)\n",
    "\n",
    "    peaks, _ = find_peaks(-df_file['theta'], prominence=0)\n",
    "\n",
    "    # Peaks with value smaller than 15 degrees(approx. 0.26 radians)\n",
    "    peaks = peaks[df_file['theta'][peaks] < 0.26]\n",
    "\n",
    "    peaks_beginning = peaks[::2]\n",
    "    peaks_end = peaks[1::2]\n",
    "\n",
    "    if len(peaks_beginning) > len(peaks_end):\n",
    "        peaks_beginning = peaks_beginning[:-1]\n",
    "\n",
    "    negative_parts_bounds = np.column_stack([peaks_beginning, peaks_end])\n",
    "\n",
    "    for bound in negative_parts_bounds:\n",
    "        df_file['theta'][bound[0]:bound[1]] = 0 - df_file['theta'][bound[0]:bound[1]]\n",
    "\n",
    "    data_map[d][l][initial_angle] = df_file\n",
    "\n",
    "with open('data.pickle', 'wb') as f:\n",
    "    pickle.dump(data_map, f)"
   ]
  },
  {
   "cell_type": "code",
   "execution_count": 122,
   "metadata": {
    "ExecuteTime": {
     "end_time": "2023-05-24T18:41:36.402807199Z",
     "start_time": "2023-05-24T18:41:36.272358892Z"
    }
   },
   "outputs": [
    {
     "data": {
      "text/plain": [
       "<matplotlib.lines.Line2D at 0x7f3750ffc520>"
      ]
     },
     "execution_count": 122,
     "metadata": {},
     "output_type": "execute_result"
    },
    {
     "data": {
      "image/png": "[encoded data removed]",
      "text/plain": [
       "<Figure size 432x288 with 1 Axes>"
      ]
     },
     "metadata": {
      "needs_background": "light"
     },
     "output_type": "display_data"
    }
   ],
   "source": [
    "a = data_map[10][100][40]\n",
    "plt.plot(a['t'][a['t'] < 5], a['theta'][a['t'] < 5] * 180 / np.pi)\n",
    "plt.axhline(y = 0   , color = 'r', linestyle = '-')"
   ]
  }
 ],
 "metadata": {
  "kernelspec": {
   "display_name": "Python 3 (ipykernel)",
   "language": "python",
   "name": "python3"
  },
  "language_info": {
   "codemirror_mode": {
    "name": "ipython",
    "version": 3
   },
   "file_extension": ".py",
   "mimetype": "text/x-python",
   "name": "python",
   "nbconvert_exporter": "python",
   "pygments_lexer": "ipython3",
   "version": "3.10.10"
  }
 },
 "nbformat": 4,
 "nbformat_minor": 1
}
